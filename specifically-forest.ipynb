{
 "cells": [
  {
   "cell_type": "markdown",
   "id": "65d9ee2c-e843-420e-b53b-d7ed04070388",
   "metadata": {},
   "source": [
    "# Datasets\n",
    "\n",
    "Датасет 1 - успеваемость студентов [ссылка](https://www.kaggle.com/datasets/rabieelkharoua/students-performance-dataset)\n",
    "\n",
    "В нем есть GPA и GradeClass, оба этих столбца это оценка, но GPA это вещественное значение, которое можно использовать для регрессии, а GradeClass можно использовать для классфикации.\n",
    "\n",
    "Датасет 2 - спортзал [ссылка](https://www.kaggle.com/datasets/valakhorasani/gym-members-exercise-dataset)\n",
    "\n",
    "gym\n",
    "\n",
    "В них нет пропусков данных."
   ]
  },
  {
   "cell_type": "code",
   "execution_count": 61,
   "id": "04fc2711-d03b-4187-a515-338a43c032ec",
   "metadata": {},
   "outputs": [],
   "source": [
    "# Imports\n",
    "import pandas as pd\n",
    "from sklearn.model_selection import train_test_split\n",
    "\n",
    "from sklearn.ensemble import RandomForestClassifier\n",
    "from sklearn.tree import DecisionTreeClassifier\n",
    "\n",
    "from sklearn.metrics import classification_report\n",
    "\n",
    "import matplotlib.pyplot as plt"
   ]
  },
  {
   "cell_type": "code",
   "execution_count": 13,
   "id": "b1f6ab84-a567-4c60-acab-7b302b6a2768",
   "metadata": {},
   "outputs": [],
   "source": [
    "dataset1 = pd.read_csv(\"student_performance.csv\")\n",
    "dataset2 = pd.read_csv(\"gym_members.csv\")"
   ]
  },
  {
   "cell_type": "code",
   "execution_count": 14,
   "id": "364f47d9-9c4e-4b52-b9dc-80c5caec4a0e",
   "metadata": {},
   "outputs": [],
   "source": [
    "# Turn gender into int\n",
    "dataset2['Gender'] = dataset2['Gender'].replace({'Female': '0', 'Male': '1'}).infer_objects(copy=False)"
   ]
  },
  {
   "cell_type": "code",
   "execution_count": 15,
   "id": "357bdf05-8f52-4dfb-a754-93cdf7a586d8",
   "metadata": {},
   "outputs": [],
   "source": [
    "# One Hot Workout Type \n",
    "def encode_and_bind(original_dataframe, feature_to_encode):\n",
    "    dummies = pd.get_dummies(original_dataframe[[feature_to_encode]])\n",
    "    res = pd.concat([original_dataframe, dummies], axis=1)\n",
    "    res = res.drop([feature_to_encode], axis=1)\n",
    "    return(res)\n",
    "dataset2 = encode_and_bind(dataset2, \"Workout_Type\")"
   ]
  },
  {
   "cell_type": "code",
   "execution_count": 16,
   "id": "5ce61225-dcb0-413f-9b3f-009932b4d7a6",
   "metadata": {},
   "outputs": [],
   "source": [
    "# Classification dataset from dataset1\n",
    "# Target is GradeClass\n",
    "class_1 = dataset1.drop(columns=[\"Ethnicity\", \"StudentID\", \"GPA\"])\n",
    "X_class_1 = class_1.drop([\"GradeClass\"], axis=1)\n",
    "y_class_1 = class_1[\"GradeClass\"]\n",
    "\n",
    "Xc1_train, Xc1_test, yc1_train, yc1_test = train_test_split(X_class_1, y_class_1, test_size=0.3)"
   ]
  },
  {
   "cell_type": "code",
   "execution_count": 17,
   "id": "36bc6c65-2703-49a0-8c28-d962b70555ef",
   "metadata": {},
   "outputs": [],
   "source": [
    "# Classification dataset from dataset2\n",
    "# Target is Gender\n",
    "class_2 = dataset2.drop(columns=[])\n",
    "X_class_2 = class_2.drop([\"Gender\"], axis=1)\n",
    "y_class_2 = class_2[\"Gender\"]\n",
    "\n",
    "Xc2_train, Xc2_test, yc2_train, yc2_test = train_test_split(X_class_2, y_class_2, test_size=0.3)"
   ]
  },
  {
   "cell_type": "markdown",
   "id": "85481afe-1126-4fb9-9248-b5c4fbfd9024",
   "metadata": {},
   "source": [
    "# Classification"
   ]
  },
  {
   "cell_type": "markdown",
   "id": "9ce1eb6d-621d-4d7c-acaf-ef9705394047",
   "metadata": {},
   "source": [
    "## Dataset 1 (Student Performance)"
   ]
  },
  {
   "cell_type": "markdown",
   "id": "d40bf499-8c46-40da-9842-cced7f168d1a",
   "metadata": {},
   "source": [
    "### Decision Tree (Overfit)"
   ]
  },
  {
   "cell_type": "code",
   "execution_count": 72,
   "id": "a094eb20-1a88-4fbe-8190-3653495d09c3",
   "metadata": {},
   "outputs": [],
   "source": [
    "# Decision tree in sklearn is overfit by default as all leaves are pure\n",
    "dtc1 = DecisionTreeClassifier()\n",
    "dtc1.fit(Xc1_train, yc1_train);"
   ]
  },
  {
   "cell_type": "code",
   "execution_count": 73,
   "id": "957bded0-a6ce-4057-8e6e-06815e95237d",
   "metadata": {},
   "outputs": [
    {
     "name": "stdout",
     "output_type": "stream",
     "text": [
      "Tree Accuracy 0.6337047353760445\n"
     ]
    }
   ],
   "source": [
    "print(\"Tree Accuracy\", dtc1.score(Xc1_test, yc1_test))"
   ]
  },
  {
   "cell_type": "markdown",
   "id": "9d351ae2-261d-48fa-8e25-0bce4a9ccd29",
   "metadata": {},
   "source": [
    "### Decision Tree (Not Overfit)"
   ]
  },
  {
   "cell_type": "code",
   "execution_count": 74,
   "id": "da5bac1b-0317-48ad-a9e4-591bd9a8d6df",
   "metadata": {},
   "outputs": [],
   "source": [
    "dtc1 = DecisionTreeClassifier(\n",
    "    min_samples_split=20,\n",
    "    min_samples_leaf=7,\n",
    ")\n",
    "dtc1.fit(Xc1_train, yc1_train);"
   ]
  },
  {
   "cell_type": "code",
   "execution_count": 75,
   "id": "ce6df4b5-d805-4463-8588-baea54eaf86f",
   "metadata": {},
   "outputs": [
    {
     "name": "stdout",
     "output_type": "stream",
     "text": [
      "Tree Accuracy 0.6894150417827298\n"
     ]
    }
   ],
   "source": [
    "print(\"Tree Accuracy\", dtc1.score(Xc1_test, yc1_test))"
   ]
  },
  {
   "cell_type": "markdown",
   "id": "410a073f-3d59-4cfc-b4e8-aa392ffec346",
   "metadata": {},
   "source": [
    "### Default Random Forest\n",
    "\n",
    "```\n",
    "n_estimators=100,\n",
    "criterion='gini',\n",
    "max_depth=None,\n",
    "min_samples_split=2,\n",
    "min_samples_leaf=1,\n",
    "max_features='sqrt',\n",
    "max_leaf_nodes=None,\n",
    "```"
   ]
  },
  {
   "cell_type": "code",
   "execution_count": 76,
   "id": "b58d2040-1bac-48e8-9bee-fff208df6d6b",
   "metadata": {},
   "outputs": [],
   "source": [
    "rfc1_default = RandomForestClassifier()\n",
    "rfc1_default.fit(Xc1_train, yc1_train);"
   ]
  },
  {
   "cell_type": "code",
   "execution_count": 77,
   "id": "50405198-5e9a-4141-80c9-8f3bf75c2645",
   "metadata": {},
   "outputs": [
    {
     "name": "stdout",
     "output_type": "stream",
     "text": [
      "Forest Accuracy 0.7186629526462396\n"
     ]
    }
   ],
   "source": [
    "print(\"Forest Accuracy\", rfc1_default.score(Xc1_test, yc1_test))"
   ]
  },
  {
   "cell_type": "code",
   "execution_count": 78,
   "id": "7e43d1cc-28bb-4d43-8df9-e5111718ab0f",
   "metadata": {},
   "outputs": [
    {
     "name": "stdout",
     "output_type": "stream",
     "text": [
      "              precision    recall  f1-score   support\n",
      "\n",
      "         0.0       0.40      0.17      0.24        24\n",
      "         1.0       0.50      0.44      0.47        80\n",
      "         2.0       0.56      0.62      0.59       120\n",
      "         3.0       0.62      0.46      0.53       139\n",
      "         4.0       0.84      0.95      0.90       355\n",
      "\n",
      "    accuracy                           0.72       718\n",
      "   macro avg       0.58      0.53      0.54       718\n",
      "weighted avg       0.70      0.72      0.70       718\n",
      "\n"
     ]
    }
   ],
   "source": [
    "rfc1_default_pred = rfc1_default.predict(Xc1_test)\n",
    "print(classification_report(yc1_test, rfc1_default_pred))"
   ]
  },
  {
   "cell_type": "code",
   "execution_count": 79,
   "id": "68cb0210-a901-48ab-8e82-6b1dc718cfa5",
   "metadata": {},
   "outputs": [],
   "source": [
    "# Importances should be labeled pandas series\n",
    "def plot_mdi_importance(importance):\n",
    "    importance = importance.sort_values(ascending=False)\n",
    "    fig, ax = plt.subplots()\n",
    "    importance.plot.barh(ax=ax)\n",
    "    ax.set_title(\"Feature importances using MDI\")\n",
    "    ax.set_ylabel(\"Mean decrease in impurity\")\n",
    "    fig.tight_layout()"
   ]
  },
  {
   "cell_type": "code",
   "execution_count": 80,
   "id": "118f27a1-dbdd-4a46-99c8-3e952dfa3732",
   "metadata": {},
   "outputs": [
    {
     "data": {
      "image/png": "[encoded data removed]",
      "text/plain": [
       "<Figure size 640x480 with 1 Axes>"
      ]
     },
     "metadata": {},
     "output_type": "display_data"
    }
   ],
   "source": [
    "# Feature importance using mean decrease in impurity\n",
    "rfc1_default_importances = pd.Series(rfc1_default.feature_importances_, index=Xc1_test.columns)\n",
    "plot_mdi_importance(rfc1_default_importances)"
   ]
  },
  {
   "cell_type": "markdown",
   "id": "5f75fc5c-9751-4de5-9982-3205173d2509",
   "metadata": {},
   "source": [
    "### OOB Score Random Forest"
   ]
  },
  {
   "cell_type": "code",
   "execution_count": 81,
   "id": "6a0b2407-2ec3-419b-922f-9c42a47a5ff4",
   "metadata": {},
   "outputs": [],
   "source": [
    "# We have to enable out-of-bag score\n",
    "# By default accuracy_score is used\n",
    "rfc1_oob = RandomForestClassifier(\n",
    "    oob_score=True,\n",
    ")\n",
    "rfc1_oob.fit(Xc1_train, yc1_train);"
   ]
  },
  {
   "cell_type": "code",
   "execution_count": 82,
   "id": "1acb3736-4f6b-4790-8166-fb306fb5711d",
   "metadata": {},
   "outputs": [
    {
     "name": "stdout",
     "output_type": "stream",
     "text": [
      "Forest OOB Score 0.7054958183990442\n"
     ]
    }
   ],
   "source": [
    "print(\"Forest OOB Score\", rfc1_oob.oob_score_)"
   ]
  },
  {
   "cell_type": "code",
   "execution_count": 83,
   "id": "654e5713-4707-419f-82b6-d82a30770a9b",
   "metadata": {},
   "outputs": [
    {
     "name": "stdout",
     "output_type": "stream",
     "text": [
      "Forest Accuracy 0.7172701949860725\n"
     ]
    }
   ],
   "source": [
    "print(\"Forest Accuracy\", rfc1_oob.score(Xc1_test, yc1_test))"
   ]
  },
  {
   "cell_type": "code",
   "execution_count": 84,
   "id": "bb924352-6ec4-4779-8a38-e11d218953cc",
   "metadata": {},
   "outputs": [
    {
     "name": "stdout",
     "output_type": "stream",
     "text": [
      "              precision    recall  f1-score   support\n",
      "\n",
      "         0.0       0.45      0.21      0.29        24\n",
      "         1.0       0.53      0.40      0.46        80\n",
      "         2.0       0.53      0.64      0.58       120\n",
      "         3.0       0.62      0.47      0.53       139\n",
      "         4.0       0.84      0.95      0.89       355\n",
      "\n",
      "    accuracy                           0.72       718\n",
      "   macro avg       0.60      0.53      0.55       718\n",
      "weighted avg       0.70      0.72      0.70       718\n",
      "\n"
     ]
    }
   ],
   "source": [
    "rfc1_oob_pred = rfc1_oob.predict(Xc1_test)\n",
    "print(classification_report(yc1_test, rfc1_oob_pred))"
   ]
  },
  {
   "cell_type": "markdown",
   "id": "ab24322c-af01-4b61-b642-1292a904aafa",
   "metadata": {},
   "source": [
    "### Parameter tuning"
   ]
  },
  {
   "cell_type": "code",
   "execution_count": 91,
   "id": "9d54b3e2-0d1f-46ca-b29f-7475b1566e2d",
   "metadata": {},
   "outputs": [],
   "source": [
    "def plot_score_features_subspace(feats, scores):\n",
    "    fig, ax = plt.subplots()\n",
    "    ax.plot(feats, scores)\n",
    "    ax.set_xlabel(\"Features\")\n",
    "    ax.set_ylabel(\"Accuracy\")\n",
    "    fig.tight_layout()"
   ]
  },
  {
   "cell_type": "code",
   "execution_count": 92,
   "id": "79d81f0b-025d-436d-abef-555f472811e8",
   "metadata": {},
   "outputs": [
    {
     "data": {
      "image/png": "[encoded data removed]",
      "text/plain": [
       "<Figure size 640x480 with 1 Axes>"
      ]
     },
     "metadata": {},
     "output_type": "display_data"
    }
   ],
   "source": [
    "feats = []\n",
    "scores = []\n",
    "n = len(Xc1_train.columns)\n",
    "for i in range(1, n+1):\n",
    "    max_features = i/n\n",
    "    rf = RandomForestClassifier(\n",
    "        max_features=max_features,\n",
    "    )\n",
    "    rf.fit(Xc1_train, yc1_train)\n",
    "    score = rf.score(Xc1_test, yc1_test)\n",
    "    feats.append(max_features)\n",
    "    scores.append(score)\n",
    "plot_score_features_subspace(feats, scores)"
   ]
  },
  {
   "cell_type": "code",
   "execution_count": null,
   "id": "11f369f0-ca4a-4637-979f-b4b48e83e358",
   "metadata": {},
   "outputs": [],
   "source": []
  }
 ],
 "metadata": {
  "kernelspec": {
   "display_name": "Python 3 (ipykernel)",
   "language": "python",
   "name": "python3"
  },
  "language_info": {
   "codemirror_mode": {
    "name": "ipython",
    "version": 3
   },
   "file_extension": ".py",
   "mimetype": "text/x-python",
   "name": "python",
   "nbconvert_exporter": "python",
   "pygments_lexer": "ipython3",
   "version": "3.12.7"
  }
 },
 "nbformat": 4,
 "nbformat_minor": 5
}
