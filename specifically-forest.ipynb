{
 "cells": [
  {
   "cell_type": "markdown",
   "id": "65d9ee2c-e843-420e-b53b-d7ed04070388",
   "metadata": {},
   "source": [
    "# Datasets\n",
    "\n",
    "Датасет 1 - успеваемость студентов [ссылка](https://www.kaggle.com/datasets/rabieelkharoua/students-performance-dataset)\n",
    "\n",
    "В нем есть GPA и GradeClass, оба этих столбца это оценка, но GPA это вещественное значение, которое можно использовать для регрессии, а GradeClass можно использовать для классфикации.\n",
    "\n",
    "Датасет 2 - спортзал [ссылка](https://www.kaggle.com/datasets/valakhorasani/gym-members-exercise-dataset)\n",
    "\n",
    "gym\n",
    "\n",
    "В них нет пропусков данных."
   ]
  },
  {
   "cell_type": "code",
   "execution_count": 22,
   "id": "04fc2711-d03b-4187-a515-338a43c032ec",
   "metadata": {},
   "outputs": [],
   "source": [
    "# Imports\n",
    "import pandas as pd\n",
    "from sklearn.model_selection import train_test_split\n",
    "from sklearn.ensemble import RandomForestClassifier\n",
    "from sklearn.metrics import classification_report"
   ]
  },
  {
   "cell_type": "code",
   "execution_count": 13,
   "id": "b1f6ab84-a567-4c60-acab-7b302b6a2768",
   "metadata": {},
   "outputs": [],
   "source": [
    "dataset1 = pd.read_csv(\"student_performance.csv\")\n",
    "dataset2 = pd.read_csv(\"gym_members.csv\")"
   ]
  },
  {
   "cell_type": "code",
   "execution_count": 14,
   "id": "364f47d9-9c4e-4b52-b9dc-80c5caec4a0e",
   "metadata": {},
   "outputs": [],
   "source": [
    "# Turn gender into int\n",
    "dataset2['Gender'] = dataset2['Gender'].replace({'Female': '0', 'Male': '1'}).infer_objects(copy=False)"
   ]
  },
  {
   "cell_type": "code",
   "execution_count": 15,
   "id": "357bdf05-8f52-4dfb-a754-93cdf7a586d8",
   "metadata": {},
   "outputs": [],
   "source": [
    "# One Hot Workout Type \n",
    "def encode_and_bind(original_dataframe, feature_to_encode):\n",
    "    dummies = pd.get_dummies(original_dataframe[[feature_to_encode]])\n",
    "    res = pd.concat([original_dataframe, dummies], axis=1)\n",
    "    res = res.drop([feature_to_encode], axis=1)\n",
    "    return(res)\n",
    "dataset2 = encode_and_bind(dataset2, \"Workout_Type\")"
   ]
  },
  {
   "cell_type": "code",
   "execution_count": 16,
   "id": "5ce61225-dcb0-413f-9b3f-009932b4d7a6",
   "metadata": {},
   "outputs": [],
   "source": [
    "# Classification dataset from dataset1\n",
    "# Target is GradeClass\n",
    "class_1 = dataset1.drop(columns=[\"Ethnicity\", \"StudentID\", \"GPA\"])\n",
    "X_class_1 = class_1.drop([\"GradeClass\"], axis=1)\n",
    "y_class_1 = class_1[\"GradeClass\"]\n",
    "\n",
    "Xc1_train, Xc1_test, yc1_train, yc1_test = train_test_split(X_class_1, y_class_1, test_size=0.3)"
   ]
  },
  {
   "cell_type": "code",
   "execution_count": 17,
   "id": "36bc6c65-2703-49a0-8c28-d962b70555ef",
   "metadata": {},
   "outputs": [],
   "source": [
    "# Classification dataset from dataset2\n",
    "# Target is Gender\n",
    "class_2 = dataset2.drop(columns=[])\n",
    "X_class_2 = class_2.drop([\"Gender\"], axis=1)\n",
    "y_class_2 = class_2[\"Gender\"]\n",
    "\n",
    "Xc2_train, Xc2_test, yc2_train, yc2_test = train_test_split(X_class_2, y_class_2, test_size=0.3)"
   ]
  },
  {
   "cell_type": "markdown",
   "id": "85481afe-1126-4fb9-9248-b5c4fbfd9024",
   "metadata": {},
   "source": [
    "# Classification"
   ]
  },
  {
   "cell_type": "markdown",
   "id": "9ce1eb6d-621d-4d7c-acaf-ef9705394047",
   "metadata": {},
   "source": [
    "## Dataset 1"
   ]
  },
  {
   "cell_type": "code",
   "execution_count": 21,
   "id": "b58d2040-1bac-48e8-9bee-fff208df6d6b",
   "metadata": {},
   "outputs": [],
   "source": [
    "rfc1_simple = RandomForestClassifier()\n",
    "rfc1_simple.fit(Xc1_train, yc1_train);"
   ]
  },
  {
   "cell_type": "code",
   "execution_count": 24,
   "id": "50405198-5e9a-4141-80c9-8f3bf75c2645",
   "metadata": {},
   "outputs": [
    {
     "name": "stdout",
     "output_type": "stream",
     "text": [
      "Forest Score 0.7200557103064067\n"
     ]
    }
   ],
   "source": [
    "print(\"Forest Score\", rfc1_simple.score(Xc1_test, yc1_test))"
   ]
  },
  {
   "cell_type": "code",
   "execution_count": 26,
   "id": "7e43d1cc-28bb-4d43-8df9-e5111718ab0f",
   "metadata": {},
   "outputs": [
    {
     "name": "stdout",
     "output_type": "stream",
     "text": [
      "              precision    recall  f1-score   support\n",
      "\n",
      "         0.0       0.10      0.04      0.06        24\n",
      "         1.0       0.51      0.38      0.43        80\n",
      "         2.0       0.57      0.68      0.62       120\n",
      "         3.0       0.63      0.51      0.56       139\n",
      "         4.0       0.85      0.94      0.89       355\n",
      "\n",
      "    accuracy                           0.72       718\n",
      "   macro avg       0.53      0.51      0.51       718\n",
      "weighted avg       0.70      0.72      0.70       718\n",
      "\n"
     ]
    }
   ],
   "source": [
    "rfc1_simple_pred = rfc1_simple.predict(Xc1_test)\n",
    "print(classification_report(yc1_test, rfc1_simple_pred))"
   ]
  },
  {
   "cell_type": "code",
   "execution_count": null,
   "id": "118f27a1-dbdd-4a46-99c8-3e952dfa3732",
   "metadata": {},
   "outputs": [],
   "source": []
  }
 ],
 "metadata": {
  "kernelspec": {
   "display_name": "Python 3 (ipykernel)",
   "language": "python",
   "name": "python3"
  },
  "language_info": {
   "codemirror_mode": {
    "name": "ipython",
    "version": 3
   },
   "file_extension": ".py",
   "mimetype": "text/x-python",
   "name": "python",
   "nbconvert_exporter": "python",
   "pygments_lexer": "ipython3",
   "version": "3.12.7"
  }
 },
 "nbformat": 4,
 "nbformat_minor": 5
}
